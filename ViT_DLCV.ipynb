{
  "cells": [
    {
      "cell_type": "markdown",
      "metadata": {
        "id": "DSm-IE1Um9cv"
      },
      "source": [
        "#IMPORT"
      ],
      "id": "DSm-IE1Um9cv"
    },
    {
      "cell_type": "code",
      "execution_count": 1,
      "metadata": {
        "colab": {
          "base_uri": "https://localhost:8080/"
        },
        "id": "lNUuTI2Sm7Aa",
        "outputId": "42c08490-047d-4201-80a8-f1cecbcb35cb"
      },
      "outputs": [
        {
          "output_type": "stream",
          "name": "stdout",
          "text": [
            "torch version: 1.13.1+cu116\n",
            "torchvision version: 0.14.1+cu116\n"
          ]
        }
      ],
      "source": [
        "try:\n",
        "    import torch\n",
        "    import torchvision\n",
        "    assert int(torch.__version__.split(\".\")[1]) >= 12, \"torch version should be 1.12+\"\n",
        "    assert int(torchvision.__version__.split(\".\")[1]) >= 13, \"torchvision version should be 0.13+\"\n",
        "    print(f\"torch version: {torch.__version__}\")\n",
        "    print(f\"torchvision version: {torchvision.__version__}\")\n",
        "except:\n",
        "    print(f\"[INFO] torch/torchvision versions not as required, installing nightly versions.\")\n",
        "    !pip3 install -U torch torchvision torchaudio --extra-index-url https://download.pytorch.org/whl/cu113\n",
        "    import torch\n",
        "    import torchvision\n",
        "    print(f\"torch version: {torch.__version__}\")\n",
        "    print(f\"torchvision version: {torchvision.__version__}\")"
      ],
      "id": "lNUuTI2Sm7Aa"
    },
    {
      "cell_type": "code",
      "execution_count": 2,
      "metadata": {
        "id": "60a89734",
        "colab": {
          "base_uri": "https://localhost:8080/"
        },
        "outputId": "7ae8486b-1d9a-44c6-e1f9-729d9c0ca2df"
      },
      "outputs": [
        {
          "output_type": "stream",
          "name": "stdout",
          "text": [
            "[INFO] Couldn't find torchinfo... installing it.\n"
          ]
        }
      ],
      "source": [
        "\n",
        "import matplotlib.pyplot as plt\n",
        "import torch\n",
        "import torchvision\n",
        "\n",
        "from torch import nn\n",
        "from torchvision import transforms\n",
        "\n",
        "# Try to get torchinfo, install it if it doesn't work\n",
        "try:\n",
        "    from torchinfo import summary\n",
        "except:\n",
        "    print(\"[INFO] Couldn't find torchinfo... installing it.\")\n",
        "    !pip install -q torchinfo\n",
        "    from torchinfo import summary\n",
        "\n"
      ],
      "id": "60a89734"
    },
    {
      "cell_type": "code",
      "execution_count": 3,
      "metadata": {
        "colab": {
          "base_uri": "https://localhost:8080/",
          "height": 0
        },
        "id": "3d4f15aa",
        "outputId": "bec5d12a-d325-4481-f492-5d8ea3925c59"
      },
      "outputs": [
        {
          "output_type": "execute_result",
          "data": {
            "text/plain": [
              "'cuda'"
            ],
            "application/vnd.google.colaboratory.intrinsic+json": {
              "type": "string"
            }
          },
          "metadata": {},
          "execution_count": 3
        }
      ],
      "source": [
        "device = \"cuda\" if torch.cuda.is_available() else \"cpu\"\n",
        "device"
      ],
      "id": "3d4f15aa"
    },
    {
      "cell_type": "markdown",
      "metadata": {
        "id": "8337232b"
      },
      "source": [
        "# DATA LOADING"
      ],
      "id": "8337232b"
    },
    {
      "cell_type": "code",
      "execution_count": 4,
      "metadata": {
        "id": "40e43284"
      },
      "outputs": [],
      "source": [
        "from torchvision import datasets\n",
        "from torchvision.transforms import ToTensor\n",
        "from torchvision.datasets import CIFAR10\n",
        "from torch.utils.data.dataloader import DataLoader"
      ],
      "id": "40e43284"
    },
    {
      "cell_type": "code",
      "execution_count": 5,
      "metadata": {
        "id": "284c4697"
      },
      "outputs": [],
      "source": [
        "import ssl\n",
        "ssl._create_default_https_context = ssl._create_unverified_context"
      ],
      "id": "284c4697"
    },
    {
      "cell_type": "markdown",
      "metadata": {
        "id": "ea10cbf8"
      },
      "source": [
        "# preparing transforms and dataloader for images"
      ],
      "id": "ea10cbf8"
    },
    {
      "cell_type": "code",
      "execution_count": 6,
      "metadata": {
        "id": "f62a9524"
      },
      "outputs": [],
      "source": [
        "\n",
        "#Hyper parameter\n",
        "LEARNING_RATE=10**(-4)\n",
        "BATCH_SIZE = 100 \n",
        "IMG_SIZE = 32\n",
        "PATCH_SIZE=4\n",
        "IN_CHANNELS=3\n",
        "EMBEDDING_DIMENTION=PATCH_SIZE*PATCH_SIZE*IN_CHANNELS*5\n",
        "NUM_HEADS=12\n",
        "NUM_ATTENTION_LAYERS=4\n",
        "DROPOUT_P=0.1\n",
        "MLP_SIZE=1024\n",
        "NUM_LABELS=10\n"
      ],
      "id": "f62a9524"
    },
    {
      "cell_type": "code",
      "execution_count": 7,
      "metadata": {
        "colab": {
          "base_uri": "https://localhost:8080/",
          "height": 192,
          "referenced_widgets": [
            "1657a87db40d4fdeb7cf46a4b599cd57",
            "24668bcda93c4fb995b81c126fff29e7",
            "5f683b363b7d4510b6da391081a483fb",
            "6cdb39b7222548b9af3706aa4edcc85b",
            "c69cb0457d48476898b5081933103331",
            "f6e72cac18074030a1adeaa0502a9723",
            "3d653f97f5fe44dea2d502af23c0b9d2",
            "442a729e1f2b48009e74e98e9126cd7c",
            "c0583622071a4c94b41615e79c25439f",
            "eaa53de09e0c48d28477ca55855b82a0",
            "9d44d0812966429c8b3219797a086d2d"
          ]
        },
        "id": "12ea1640",
        "outputId": "99ce22f1-39d3-496b-ff17-c921fcf8e339"
      },
      "outputs": [
        {
          "output_type": "stream",
          "name": "stdout",
          "text": [
            "Manually created transforms: Compose(\n",
            "    Resize(size=(32, 32), interpolation=bilinear, max_size=None, antialias=None)\n",
            "    ToTensor()\n",
            ")\n",
            "Downloading https://www.cs.toronto.edu/~kriz/cifar-10-python.tar.gz to imgdata/cifar-10-python.tar.gz\n"
          ]
        },
        {
          "output_type": "display_data",
          "data": {
            "text/plain": [
              "  0%|          | 0/170498071 [00:00<?, ?it/s]"
            ],
            "application/vnd.jupyter.widget-view+json": {
              "version_major": 2,
              "version_minor": 0,
              "model_id": "1657a87db40d4fdeb7cf46a4b599cd57"
            }
          },
          "metadata": {}
        },
        {
          "output_type": "stream",
          "name": "stdout",
          "text": [
            "Extracting imgdata/cifar-10-python.tar.gz to imgdata/\n"
          ]
        },
        {
          "output_type": "execute_result",
          "data": {
            "text/plain": [
              "(<torch.utils.data.dataloader.DataLoader at 0x7f70fcefeb50>,\n",
              " <torch.utils.data.dataloader.DataLoader at 0x7f70fcefeac0>)"
            ]
          },
          "metadata": {},
          "execution_count": 7
        }
      ],
      "source": [
        "\n",
        "\n",
        "\n",
        "manual_transforms = transforms.Compose([\n",
        "    transforms.Resize((IMG_SIZE, IMG_SIZE)),\n",
        "    transforms.ToTensor(),\n",
        "])           \n",
        "print(f\"Manually created transforms: {manual_transforms}\")\n",
        "\n",
        "\n",
        "#imgdata contains transformed images\n",
        "train_dataset = CIFAR10(root='imgdata/', download=True, transform=manual_transforms)\n",
        "test_dataset = CIFAR10(root='imgdata/', train=False, transform=manual_transforms)\n",
        "\n",
        "\n",
        "train_dataloader = DataLoader(\n",
        "      train_dataset,\n",
        "      batch_size=BATCH_SIZE,\n",
        "      shuffle=False,\n",
        "      pin_memory=True,\n",
        "  )\n",
        "test_dataloader = DataLoader(\n",
        "      test_dataset,\n",
        "      batch_size=BATCH_SIZE,\n",
        "      shuffle=False,\n",
        "      pin_memory=True,\n",
        "  )\n",
        "\n",
        "train_dataloader, test_dataloader"
      ],
      "id": "12ea1640"
    },
    {
      "cell_type": "code",
      "execution_count": 8,
      "metadata": {
        "colab": {
          "base_uri": "https://localhost:8080/",
          "height": 299
        },
        "id": "09d2954a",
        "outputId": "05944cfd-1aa9-49d4-a7b1-e8571c24c26d"
      },
      "outputs": [
        {
          "output_type": "stream",
          "name": "stdout",
          "text": [
            "torch.Size([100, 3, 32, 32]) torch.Size([100])\n"
          ]
        },
        {
          "output_type": "display_data",
          "data": {
            "text/plain": [
              "<Figure size 432x288 with 1 Axes>"
            ],
            "image/png": "[encoded data removed]"
          },
          "metadata": {
            "needs_background": "light"
          }
        }
      ],
      "source": [
        "# Get a batch of images\n",
        "\n",
        "\n",
        "image_batch, label_batch = next(iter(train_dataloader))\n",
        "print(image_batch.shape,label_batch.shape)\n",
        "# Get a single image from the batch\n",
        "image, label = image_batch[12], label_batch[12]\n",
        "plt.imshow(image.permute(1,2,0))\n",
        "plt.title(train_dataset.classes[label])\n",
        "plt.show()"
      ],
      "id": "09d2954a"
    },
    {
      "cell_type": "markdown",
      "metadata": {
        "id": "402c1c3a"
      },
      "source": [
        "# Patch embedding"
      ],
      "id": "402c1c3a"
    },
    {
      "cell_type": "code",
      "execution_count": 9,
      "metadata": {
        "id": "15439577"
      },
      "outputs": [],
      "source": [
        "class Patch_embedding(nn.Module):\n",
        "    \n",
        "    \n",
        "    def __init__(self,\n",
        "                 in_channels=IN_CHANNELS,\n",
        "                 patch_size=PATCH_SIZE,\n",
        "                 embedding_dim=EMBEDDING_DIMENTION\n",
        "                ):\n",
        "        \n",
        "        super().__init__()\n",
        "        self.patcher=nn.Conv2d(in_channels=in_channels,\n",
        "                               out_channels=embedding_dim,\n",
        "                               kernel_size=patch_size,\n",
        "                               stride=patch_size,\n",
        "                               padding=0\n",
        "                              )\n",
        "        \n",
        "        self.flatten = nn.Flatten(start_dim=2,\n",
        "                                  end_dim=3)\n",
        "    def forward(self,x):\n",
        "        image_resolution = x.shape[-1]\n",
        "        x_patched = self.patcher(x)\n",
        "        x_flattened = self.flatten(x_patched)\n",
        "        \n",
        "        return x_flattened.permute(0, 2, 1)\n",
        "        \n"
      ],
      "id": "15439577"
    },
    {
      "cell_type": "code",
      "execution_count": 10,
      "metadata": {
        "colab": {
          "base_uri": "https://localhost:8080/"
        },
        "id": "a5d22d41",
        "outputId": "03abccfa-3ee4-4bd0-ccc6-12455e5436a7"
      },
      "outputs": [
        {
          "output_type": "stream",
          "name": "stdout",
          "text": [
            "Input image shape: torch.Size([1, 3, 32, 32])\n",
            "Output patch embedding shape: torch.Size([1, 64, 240])\n"
          ]
        }
      ],
      "source": [
        "\n",
        "\n",
        "\n",
        "patchify=Patch_embedding(in_channels=IN_CHANNELS,\n",
        "                 patch_size=PATCH_SIZE,\n",
        "                 embedding_dim=EMBEDDING_DIMENTION)\n",
        "\n",
        "\n",
        "\n",
        "print(f\"Input image shape: {image.unsqueeze(0).shape}\")\n",
        "patch_embedded_image = patchify(image.unsqueeze(0)) \n",
        "print(f\"Output patch embedding shape: {patch_embedded_image.shape}\")\n",
        "\n"
      ],
      "id": "a5d22d41"
    },
    {
      "cell_type": "code",
      "execution_count": 11,
      "metadata": {
        "colab": {
          "base_uri": "https://localhost:8080/"
        },
        "id": "b401aa1e",
        "outputId": "e0fe0c0b-9149-48ec-d732-e5999716a656"
      },
      "outputs": [
        {
          "output_type": "execute_result",
          "data": {
            "text/plain": [
              "=================================================================\n",
              "Layer (type:depth-idx)                   Param #\n",
              "=================================================================\n",
              "Patch_embedding                          --\n",
              "├─Conv2d: 1-1                            11,760\n",
              "├─Flatten: 1-2                           --\n",
              "=================================================================\n",
              "Total params: 11,760\n",
              "Trainable params: 11,760\n",
              "Non-trainable params: 0\n",
              "================================================================="
            ]
          },
          "metadata": {},
          "execution_count": 11
        }
      ],
      "source": [
        "summary(Patch_embedding())"
      ],
      "id": "b401aa1e"
    },
    {
      "cell_type": "markdown",
      "metadata": {
        "id": "19da7526"
      },
      "source": [
        "## including class token"
      ],
      "id": "19da7526"
    },
    {
      "cell_type": "code",
      "execution_count": 12,
      "metadata": {
        "colab": {
          "base_uri": "https://localhost:8080/"
        },
        "id": "a34a289d",
        "outputId": "113ef7d5-36c2-439a-92a7-1865372bba84"
      },
      "outputs": [
        {
          "output_type": "execute_result",
          "data": {
            "text/plain": [
              "torch.Size([1, 1, 240])"
            ]
          },
          "metadata": {},
          "execution_count": 12
        }
      ],
      "source": [
        "class_token= nn.Parameter(torch.ones((1,1,EMBEDDING_DIMENTION)),requires_grad=True) #1 can be replaced with BATCH_SIZE\n",
        "class_token.shape"
      ],
      "id": "a34a289d"
    },
    {
      "cell_type": "code",
      "execution_count": 13,
      "metadata": {
        "colab": {
          "base_uri": "https://localhost:8080/"
        },
        "id": "bf7a4265",
        "outputId": "465b8bd6-932c-48e5-a1d0-8a9c0c83139c"
      },
      "outputs": [
        {
          "output_type": "execute_result",
          "data": {
            "text/plain": [
              "torch.Size([1, 65, 240])"
            ]
          },
          "metadata": {},
          "execution_count": 13
        }
      ],
      "source": [
        "final_embedding=torch.cat((class_token,patch_embedded_image),dim=1)\n",
        "final_embedding.shape"
      ],
      "id": "bf7a4265"
    },
    {
      "cell_type": "markdown",
      "metadata": {
        "id": "e7118fe5"
      },
      "source": [
        "# MSA LAYER"
      ],
      "id": "e7118fe5"
    },
    {
      "cell_type": "code",
      "execution_count": 14,
      "metadata": {
        "id": "c9ec36ff"
      },
      "outputs": [],
      "source": [
        "\n",
        "class MultiheadSelfAttentionBlock(nn.Module):\n",
        "    \n",
        "    def __init__(self,\n",
        "                 embedding_dim =EMBEDDING_DIMENTION, \n",
        "                 num_heads=NUM_HEADS, \n",
        "                 attn_dropout=0):\n",
        "        super().__init__()\n",
        "        \n",
        "        \n",
        "        self.layer_norm = nn.LayerNorm(normalized_shape=embedding_dim)\n",
        "        \n",
        "        \n",
        "        self.multihead_attn = nn.MultiheadAttention(embed_dim=embedding_dim,\n",
        "                                                    num_heads=num_heads,\n",
        "                                                    dropout=attn_dropout,\n",
        "                                                    batch_first=True) \n",
        "        \n",
        "    \n",
        "    def forward(self, x):\n",
        "        x = self.layer_norm(x)\n",
        "        attn_output, _ = self.multihead_attn(query=x,\n",
        "                                             key=x, \n",
        "                                             value=x, \n",
        "                                             need_weights=False)\n",
        "        return attn_output"
      ],
      "id": "c9ec36ff"
    },
    {
      "cell_type": "code",
      "execution_count": 15,
      "metadata": {
        "colab": {
          "base_uri": "https://localhost:8080/"
        },
        "id": "8dbe3b1a",
        "outputId": "b9bb7f90-cdc6-43ce-d689-87cc901e5547"
      },
      "outputs": [
        {
          "output_type": "stream",
          "name": "stdout",
          "text": [
            "torch.Size([1, 65, 240])\n",
            "torch.Size([1, 65, 240])\n"
          ]
        }
      ],
      "source": [
        "Multihead=MultiheadSelfAttentionBlock()\n",
        "print(final_embedding.shape)\n",
        "after_msa_out=Multihead(final_embedding)\n",
        "print(after_msa_out.shape)\n"
      ],
      "id": "8dbe3b1a"
    },
    {
      "cell_type": "markdown",
      "metadata": {
        "id": "dfe71e62"
      },
      "source": [
        "# MLP layer in encoder"
      ],
      "id": "dfe71e62"
    },
    {
      "cell_type": "code",
      "execution_count": 16,
      "metadata": {
        "id": "394b11a3"
      },
      "outputs": [],
      "source": [
        "\n",
        "class MLPBlock(nn.Module):\n",
        "    \n",
        "    def __init__(self,\n",
        "                 embedding_dim=EMBEDDING_DIMENTION, \n",
        "                 mlp_size = MLP_SIZE, \n",
        "                 dropout = DROPOUT_P): \n",
        "        super().__init__()\n",
        "        \n",
        "      \n",
        "        self.layer_norm = nn.LayerNorm(normalized_shape=embedding_dim)\n",
        "        \n",
        "       \n",
        "        self.mlp = nn.Sequential(\n",
        "            nn.Linear(in_features=embedding_dim,\n",
        "                      out_features=mlp_size),\n",
        "            nn.GELU(), \n",
        "            nn.Dropout(p=dropout),\n",
        "            nn.Linear(in_features=mlp_size, \n",
        "                      out_features=embedding_dim), \n",
        "            nn.Dropout(p=dropout) \n",
        "        )\n",
        "    \n",
        "    def forward(self, x):\n",
        "        x = self.layer_norm(x)\n",
        "        x = self.mlp(x)\n",
        "        return x"
      ],
      "id": "394b11a3"
    },
    {
      "cell_type": "code",
      "execution_count": 17,
      "metadata": {
        "colab": {
          "base_uri": "https://localhost:8080/"
        },
        "id": "6247ae96",
        "outputId": "09e60c0c-11a9-4585-d74f-cf174167a489"
      },
      "outputs": [
        {
          "output_type": "stream",
          "name": "stdout",
          "text": [
            "torch.Size([1, 65, 240])\n",
            "torch.Size([1, 65, 240])\n"
          ]
        }
      ],
      "source": [
        "MLP=MLPBlock()\n",
        "print(after_msa_out.shape)\n",
        "after_mlp_out=MLP(after_msa_out)\n",
        "print(after_mlp_out.shape)\n"
      ],
      "id": "6247ae96"
    },
    {
      "cell_type": "markdown",
      "metadata": {
        "id": "998fde9c"
      },
      "source": [
        "# ENCODER BLOCK"
      ],
      "id": "998fde9c"
    },
    {
      "cell_type": "code",
      "execution_count": 18,
      "metadata": {
        "id": "cab14a03"
      },
      "outputs": [],
      "source": [
        "class EncoderBlock(nn.Module):\n",
        "   \n",
        "    def __init__(self,\n",
        "                 embedding_dim=EMBEDDING_DIMENTION, \n",
        "                 num_heads=NUM_HEADS, \n",
        "                 mlp_size=MLP_SIZE, \n",
        "                 mlp_dropout=DROPOUT_P, \n",
        "                 attn_dropout=0): \n",
        "        super().__init__()\n",
        "\n",
        "        \n",
        "        self.msa_block = MultiheadSelfAttentionBlock(embedding_dim=embedding_dim,\n",
        "                                                     num_heads=num_heads,\n",
        "                                                     attn_dropout=attn_dropout)\n",
        "        \n",
        "        \n",
        "        self.mlp_block =  MLPBlock(embedding_dim=embedding_dim,\n",
        "                                   mlp_size=mlp_size,\n",
        "                                   dropout=mlp_dropout)\n",
        "        \n",
        " \n",
        "    def forward(self, x):\n",
        "        \n",
        "        \n",
        "        x =  self.msa_block(x) + x \n",
        "        \n",
        "        \n",
        "        x = self.mlp_block(x) + x \n",
        "        \n",
        "        return x"
      ],
      "id": "cab14a03"
    },
    {
      "cell_type": "code",
      "execution_count": 18,
      "metadata": {
        "id": "8f0dbbc3"
      },
      "outputs": [],
      "source": [],
      "id": "8f0dbbc3"
    },
    {
      "cell_type": "markdown",
      "metadata": {
        "id": "3ac2b88b"
      },
      "source": [
        "# ViT "
      ],
      "id": "3ac2b88b"
    },
    {
      "cell_type": "code",
      "execution_count": 19,
      "metadata": {
        "id": "bc47e507"
      },
      "outputs": [],
      "source": [
        "\n",
        "class ViT(nn.Module):\n",
        "    \n",
        "    def __init__(self,\n",
        "                 img_size=IMG_SIZE, \n",
        "                 in_channels=IN_CHANNELS, \n",
        "                 patch_size=PATCH_SIZE, \n",
        "                 num_transformer_layers=NUM_ATTENTION_LAYERS, \n",
        "                 embedding_dim=EMBEDDING_DIMENTION, \n",
        "                 mlp_size=MLP_SIZE, \n",
        "                 num_heads=NUM_HEADS, \n",
        "                 attn_dropout=0, \n",
        "                 mlp_dropout=DROPOUT_P, \n",
        "                 embedding_dropout=DROPOUT_P, # Dropout for patch and position embeddings\n",
        "                 num_classes=NUM_LABELS): \n",
        "        \n",
        "        super().__init__() \n",
        "        \n",
        "        \n",
        "        self.num_patches = (img_size * img_size) // patch_size**2\n",
        "                 \n",
        "        self.class_embedding = nn.Parameter(data=torch.randn(1, 1, embedding_dim),\n",
        "                                            requires_grad=True)\n",
        "        \n",
        "        \n",
        "        self.position_embedding = nn.Parameter(data=torch.randn(1, self.num_patches+1, embedding_dim),\n",
        "                                               requires_grad=True)\n",
        "                \n",
        "        \n",
        "        self.embedding_dropout = nn.Dropout(p=embedding_dropout)\n",
        "        \n",
        "       \n",
        "        self.patch_embedding = Patch_embedding(in_channels=in_channels,\n",
        "                                              patch_size=patch_size,\n",
        "                                              embedding_dim=embedding_dim)\n",
        "        \n",
        "        \n",
        "        self.transformer_encoder = nn.Sequential(*[EncoderBlock(embedding_dim=embedding_dim,\n",
        "                                                                            num_heads=num_heads,\n",
        "                                                                            mlp_size=mlp_size,\n",
        "                                                                            mlp_dropout=mlp_dropout) for _ in range(num_transformer_layers)])\n",
        "       \n",
        "       \n",
        "        self.classifier = nn.Sequential(\n",
        "            nn.LayerNorm(normalized_shape=embedding_dim),\n",
        "            nn.Linear(in_features=embedding_dim, \n",
        "                      out_features=num_classes)\n",
        "        )\n",
        "        print(f\"PATCH_SIZE: {PATCH_SIZE} \")\n",
        "    \n",
        "    def forward(self, x):\n",
        "        \n",
        "        batch_size = BATCH_SIZE\n",
        "        \n",
        "        class_token = self.class_embedding.expand(batch_size, -1, -1) \n",
        "        \n",
        "        x = self.patch_embedding(x)\n",
        "\n",
        "        x = torch.cat((class_token, x), dim=1)\n",
        "\n",
        "        x = self.position_embedding + x\n",
        "\n",
        "        x = self.embedding_dropout(x)\n",
        "\n",
        "        x = self.transformer_encoder(x)\n",
        "\n",
        "        x = self.classifier(x[:, 0]) \n",
        "\n",
        "        return x       "
      ],
      "id": "bc47e507"
    },
    {
      "cell_type": "code",
      "execution_count": 20,
      "metadata": {
        "id": "tCxOSxu7NO0e"
      },
      "outputs": [],
      "source": [
        "from tqdm import tqdm\n",
        "\n",
        "def train(model,\n",
        "          train_dataloader,\n",
        "          test_dataloader,\n",
        "          max_epochs,\n",
        "          device,\n",
        "         ):\n",
        "    \n",
        "    \n",
        "    optimiser=torch.optim.Adam(params=model.parameters(), \n",
        "                             lr=LEARNING_RATE)\n",
        "#                              betas=(0.9, 0.999), \n",
        "#                              weight_decay=0.3) \n",
        "    loss_fn=nn.CrossEntropyLoss()\n",
        "    \n",
        "    \n",
        "    model.to(device)\n",
        "    \n",
        "    loss_curve=[]\n",
        "    train_acc_curve=[]\n",
        "    test_acc_curve=[]\n",
        "    \n",
        "    for epoch in tqdm(range(max_epochs)):\n",
        "        model.train()\n",
        "        train_loss=0\n",
        "        train_accuracy=0\n",
        "        test_acc=0\n",
        "        \n",
        "        for batch_id,(X,y) in enumerate(train_dataloader):\n",
        "            X, y = X.to(device), y.to(device)\n",
        "            y_pred=model(X)\n",
        "            #print(y_pred.shape,y.shape,y_pred,y)\n",
        "            loss=loss_fn(y_pred,y)\n",
        "            \n",
        "            train_loss+=loss.item()\n",
        "            \n",
        "            \n",
        "            optimiser.zero_grad()\n",
        "            loss.backward()\n",
        "            optimiser.step()\n",
        "            \n",
        "            \n",
        "            y_pred=torch.argmax(y_pred,dim=1)\n",
        "            #print(y_pred.shape)\n",
        "            batch_correct=((y_pred==y).sum().item())/BATCH_SIZE\n",
        "            train_accuracy+=batch_correct\n",
        "           # print(loss.item(),batch_correct)\n",
        "        \n",
        "\n",
        "\n",
        "        for batch_id,(X,y) in enumerate(test_dataloader):\n",
        "                  \n",
        "          X, y = X.to(device), y.to(device)\n",
        "          y_pred=model(X)\n",
        "          \n",
        "          \n",
        "          y_pred=torch.argmax(y_pred,dim=1)\n",
        "          \n",
        "          batch_correct=((y_pred==y).sum().item())/BATCH_SIZE\n",
        "          test_acc+=batch_correct\n",
        "          \n",
        "            \n",
        "            \n",
        "        loss_curve.append(train_loss/len(train_dataloader))\n",
        "        train_acc_curve.append(train_accuracy/len(train_dataloader))\n",
        "        test_acc_curve.append(test_acc/len(test_dataloader))\n",
        "        \n",
        "        print(f\"epoch:{epoch+1} train_loss:{loss_curve[-1]} train_acc:{train_acc_curve[-1]} test_acc:{test_acc_curve[-1]}\")\n",
        "             \n",
        "    return loss_curve,train_acc_curve,test_acc_curve\n",
        "        \n",
        "            \n",
        "        "
      ],
      "id": "tCxOSxu7NO0e"
    },
    {
      "cell_type": "code",
      "execution_count": 21,
      "metadata": {
        "colab": {
          "base_uri": "https://localhost:8080/"
        },
        "id": "5bb97b45",
        "outputId": "a860da45-de84-45e9-b385-77debcf229d8"
      },
      "outputs": [
        {
          "output_type": "stream",
          "name": "stdout",
          "text": [
            "PATCH_SIZE: 4 \n"
          ]
        },
        {
          "output_type": "execute_result",
          "data": {
            "text/plain": [
              "==========================================================================================\n",
              "Layer (type:depth-idx)                                            Param #\n",
              "==========================================================================================\n",
              "ViT                                                               15,840\n",
              "├─Dropout: 1-1                                                    --\n",
              "├─Patch_embedding: 1-2                                            --\n",
              "│    └─Conv2d: 2-1                                                11,760\n",
              "│    └─Flatten: 2-2                                               --\n",
              "├─Sequential: 1-3                                                 --\n",
              "│    └─EncoderBlock: 2-3                                          --\n",
              "│    │    └─MultiheadSelfAttentionBlock: 3-1                      231,840\n",
              "│    │    └─MLPBlock: 3-2                                         493,264\n",
              "│    └─EncoderBlock: 2-4                                          --\n",
              "│    │    └─MultiheadSelfAttentionBlock: 3-3                      231,840\n",
              "│    │    └─MLPBlock: 3-4                                         493,264\n",
              "│    └─EncoderBlock: 2-5                                          --\n",
              "│    │    └─MultiheadSelfAttentionBlock: 3-5                      231,840\n",
              "│    │    └─MLPBlock: 3-6                                         493,264\n",
              "│    └─EncoderBlock: 2-6                                          --\n",
              "│    │    └─MultiheadSelfAttentionBlock: 3-7                      231,840\n",
              "│    │    └─MLPBlock: 3-8                                         493,264\n",
              "├─Sequential: 1-4                                                 --\n",
              "│    └─LayerNorm: 2-7                                             480\n",
              "│    └─Linear: 2-8                                                2,410\n",
              "==========================================================================================\n",
              "Total params: 2,930,906\n",
              "Trainable params: 2,930,906\n",
              "Non-trainable params: 0\n",
              "=========================================================================================="
            ]
          },
          "metadata": {},
          "execution_count": 21
        }
      ],
      "source": [
        "summary(ViT())"
      ],
      "id": "5bb97b45"
    },
    {
      "cell_type": "code",
      "execution_count": 22,
      "metadata": {
        "colab": {
          "base_uri": "https://localhost:8080/"
        },
        "id": "evasvm1WozJq",
        "outputId": "60c203cf-e083-4d59-e0a8-6250353fdce0"
      },
      "outputs": [
        {
          "output_type": "stream",
          "name": "stdout",
          "text": [
            "PATCH_SIZE: 4 \n"
          ]
        }
      ],
      "source": [
        "vit=ViT()\n"
      ],
      "id": "evasvm1WozJq"
    },
    {
      "cell_type": "code",
      "execution_count": 23,
      "metadata": {
        "colab": {
          "base_uri": "https://localhost:8080/"
        },
        "id": "_0oC6sNYozL5",
        "outputId": "d3a1eb7f-1fc3-4a47-8ba9-9426c03649ad"
      },
      "outputs": [
        {
          "output_type": "stream",
          "name": "stderr",
          "text": [
            " 10%|█         | 1/10 [00:51<07:40, 51.18s/it]"
          ]
        },
        {
          "output_type": "stream",
          "name": "stdout",
          "text": [
            "epoch:1 train_loss:2.0090476934909822 train_acc:0.25514 test_acc:0.35669999999999985\n"
          ]
        },
        {
          "output_type": "stream",
          "name": "stderr",
          "text": [
            "\r 20%|██        | 2/10 [01:32<06:02, 45.36s/it]"
          ]
        },
        {
          "output_type": "stream",
          "name": "stdout",
          "text": [
            "epoch:2 train_loss:1.724073401927948 train_acc:0.37933999999999973 test_acc:0.4113000000000001\n"
          ]
        },
        {
          "output_type": "stream",
          "name": "stderr",
          "text": [
            "\r 30%|███       | 3/10 [02:13<05:05, 43.59s/it]"
          ]
        },
        {
          "output_type": "stream",
          "name": "stdout",
          "text": [
            "epoch:3 train_loss:1.5907057993412017 train_acc:0.42923999999999973 test_acc:0.4394000000000001\n"
          ]
        },
        {
          "output_type": "stream",
          "name": "stderr",
          "text": [
            "\r 40%|████      | 4/10 [02:54<04:15, 42.57s/it]"
          ]
        },
        {
          "output_type": "stream",
          "name": "stdout",
          "text": [
            "epoch:4 train_loss:1.5138507952690126 train_acc:0.45643999999999907 test_acc:0.46070000000000005\n"
          ]
        },
        {
          "output_type": "stream",
          "name": "stderr",
          "text": [
            "\r 50%|█████     | 5/10 [03:35<03:29, 41.96s/it]"
          ]
        },
        {
          "output_type": "stream",
          "name": "stdout",
          "text": [
            "epoch:5 train_loss:1.4539120209217071 train_acc:0.4784799999999997 test_acc:0.4754\n"
          ]
        },
        {
          "output_type": "stream",
          "name": "stderr",
          "text": [
            "\r 60%|██████    | 6/10 [04:17<02:46, 41.71s/it]"
          ]
        },
        {
          "output_type": "stream",
          "name": "stdout",
          "text": [
            "epoch:6 train_loss:1.4087342052459717 train_acc:0.49598000000000014 test_acc:0.49119999999999997\n"
          ]
        },
        {
          "output_type": "stream",
          "name": "stderr",
          "text": [
            "\r 70%|███████   | 7/10 [04:57<02:04, 41.41s/it]"
          ]
        },
        {
          "output_type": "stream",
          "name": "stdout",
          "text": [
            "epoch:7 train_loss:1.365682994365692 train_acc:0.5100800000000003 test_acc:0.5044999999999997\n"
          ]
        },
        {
          "output_type": "stream",
          "name": "stderr",
          "text": [
            "\r 80%|████████  | 8/10 [05:39<01:22, 41.34s/it]"
          ]
        },
        {
          "output_type": "stream",
          "name": "stdout",
          "text": [
            "epoch:8 train_loss:1.3280155415534973 train_acc:0.5232400000000005 test_acc:0.5121\n"
          ]
        },
        {
          "output_type": "stream",
          "name": "stderr",
          "text": [
            "\r 90%|█████████ | 9/10 [06:19<00:41, 41.22s/it]"
          ]
        },
        {
          "output_type": "stream",
          "name": "stdout",
          "text": [
            "epoch:9 train_loss:1.2890750863552094 train_acc:0.5386599999999999 test_acc:0.5241999999999997\n"
          ]
        },
        {
          "output_type": "stream",
          "name": "stderr",
          "text": [
            "100%|██████████| 10/10 [07:00<00:00, 42.08s/it]"
          ]
        },
        {
          "output_type": "stream",
          "name": "stdout",
          "text": [
            "epoch:10 train_loss:1.2574995181560515 train_acc:0.5479800000000009 test_acc:0.5322999999999999\n"
          ]
        },
        {
          "output_type": "stream",
          "name": "stderr",
          "text": [
            "\n"
          ]
        }
      ],
      "source": [
        "loss_curve,train_acc_curve,test_acc_curve=train(model=vit,\n",
        "      train_dataloader=train_dataloader,\n",
        "      test_dataloader=test_dataloader,\n",
        "      device=device,\n",
        "      max_epochs=10,\n",
        "      )"
      ],
      "id": "_0oC6sNYozL5"
    },
    {
      "cell_type": "code",
      "execution_count": 24,
      "metadata": {
        "id": "x9eVsehJrdL3"
      },
      "outputs": [],
      "source": [
        "#loss_curve,train_acc_curve,test_acc_curve"
      ],
      "id": "x9eVsehJrdL3"
    },
    {
      "cell_type": "code",
      "execution_count": 25,
      "metadata": {
        "colab": {
          "base_uri": "https://localhost:8080/",
          "height": 406
        },
        "id": "jvp7QquiNP-J",
        "outputId": "d6b4296e-e056-4d92-d4a6-3b1379971a4a"
      },
      "outputs": [
        {
          "output_type": "execute_result",
          "data": {
            "text/plain": [
              "[]"
            ]
          },
          "metadata": {},
          "execution_count": 25
        },
        {
          "output_type": "display_data",
          "data": {
            "text/plain": [
              "<Figure size 1080x432 with 2 Axes>"
            ],
            "image/png": "[encoded data removed]"
          },
          "metadata": {
            "needs_background": "light"
          }
        }
      ],
      "source": [
        "plt.figure(figsize=(15,6))\n",
        "plt.subplot(1, 2, 1)\n",
        "plt.plot(train_acc_curve,label=\"Train_acc\")\n",
        "plt.plot(test_acc_curve,label=\"Test_acc\")\n",
        "plt.xlabel(\"epochs\")\n",
        "plt.ylabel(\"accuracy\")\n",
        "plt.legend()\n",
        "plt.subplot(1, 2, 2)\n",
        "plt.plot(loss_curve)\n",
        "plt.xlabel(\"epochs\")\n",
        "plt.ylabel(\"train_loss\")\n",
        "plt.plot()"
      ],
      "id": "jvp7QquiNP-J"
    },
    {
      "cell_type": "markdown",
      "metadata": {
        "id": "RG9uCTTZs-KU"
      },
      "source": [
        "#EXPERIMENT - ATTENTION HEADS.(EXPERIMENT 2)"
      ],
      "id": "RG9uCTTZs-KU"
    },
    {
      "cell_type": "code",
      "execution_count": 27,
      "metadata": {
        "id": "z7ETZuRHs8pL"
      },
      "outputs": [],
      "source": [
        "DIFF_NUM_HEADS=[4,6,8,10,12,16]\n",
        "\n",
        "num_head_map={}"
      ],
      "id": "z7ETZuRHs8pL"
    },
    {
      "cell_type": "code",
      "execution_count": 28,
      "metadata": {
        "id": "6e10a056",
        "colab": {
          "base_uri": "https://localhost:8080/"
        },
        "outputId": "ef7d59d0-8ae4-4662-bf56-af2847f1430d"
      },
      "outputs": [
        {
          "output_type": "stream",
          "name": "stdout",
          "text": [
            "PATCH_SIZE: 4 \n"
          ]
        },
        {
          "output_type": "stream",
          "name": "stderr",
          "text": [
            " 20%|██        | 1/5 [00:40<02:41, 40.37s/it]"
          ]
        },
        {
          "output_type": "stream",
          "name": "stdout",
          "text": [
            "epoch:1 train_loss:2.0186403269767763 train_acc:0.24917999999999998 test_acc:0.3501999999999999\n"
          ]
        },
        {
          "output_type": "stream",
          "name": "stderr",
          "text": [
            "\r 40%|████      | 2/5 [01:21<02:02, 40.98s/it]"
          ]
        },
        {
          "output_type": "stream",
          "name": "stdout",
          "text": [
            "epoch:2 train_loss:1.7398650670051574 train_acc:0.37351999999999974 test_acc:0.41040000000000004\n"
          ]
        },
        {
          "output_type": "stream",
          "name": "stderr",
          "text": [
            "\r 60%|██████    | 3/5 [02:02<01:21, 40.90s/it]"
          ]
        },
        {
          "output_type": "stream",
          "name": "stdout",
          "text": [
            "epoch:3 train_loss:1.6229131150245666 train_acc:0.4197599999999996 test_acc:0.44049999999999984\n"
          ]
        },
        {
          "output_type": "stream",
          "name": "stderr",
          "text": [
            "\r 80%|████████  | 4/5 [02:42<00:40, 40.68s/it]"
          ]
        },
        {
          "output_type": "stream",
          "name": "stdout",
          "text": [
            "epoch:4 train_loss:1.540806301355362 train_acc:0.4474999999999994 test_acc:0.4559000000000001\n"
          ]
        },
        {
          "output_type": "stream",
          "name": "stderr",
          "text": [
            "100%|██████████| 5/5 [03:23<00:00, 40.65s/it]\n"
          ]
        },
        {
          "output_type": "stream",
          "name": "stdout",
          "text": [
            "epoch:5 train_loss:1.4817024948596955 train_acc:0.4704399999999996 test_acc:0.4707999999999999\n",
            "PATCH_SIZE: 4 \n"
          ]
        },
        {
          "output_type": "stream",
          "name": "stderr",
          "text": [
            " 20%|██        | 1/5 [00:40<02:43, 40.77s/it]"
          ]
        },
        {
          "output_type": "stream",
          "name": "stdout",
          "text": [
            "epoch:1 train_loss:1.9962834203243256 train_acc:0.2619199999999998 test_acc:0.36140000000000005\n"
          ]
        },
        {
          "output_type": "stream",
          "name": "stderr",
          "text": [
            "\r 40%|████      | 2/5 [01:21<02:02, 40.72s/it]"
          ]
        },
        {
          "output_type": "stream",
          "name": "stdout",
          "text": [
            "epoch:2 train_loss:1.7282990458011627 train_acc:0.3800999999999998 test_acc:0.41200000000000003\n"
          ]
        },
        {
          "output_type": "stream",
          "name": "stderr",
          "text": [
            "\r 60%|██████    | 3/5 [02:01<01:21, 40.51s/it]"
          ]
        },
        {
          "output_type": "stream",
          "name": "stdout",
          "text": [
            "epoch:3 train_loss:1.6028489065170288 train_acc:0.42553999999999964 test_acc:0.4471999999999998\n"
          ]
        },
        {
          "output_type": "stream",
          "name": "stderr",
          "text": [
            "\r 80%|████████  | 4/5 [02:42<00:40, 40.66s/it]"
          ]
        },
        {
          "output_type": "stream",
          "name": "stdout",
          "text": [
            "epoch:4 train_loss:1.5195528671741485 train_acc:0.45533999999999936 test_acc:0.46749999999999986\n"
          ]
        },
        {
          "output_type": "stream",
          "name": "stderr",
          "text": [
            "100%|██████████| 5/5 [03:22<00:00, 40.60s/it]\n"
          ]
        },
        {
          "output_type": "stream",
          "name": "stdout",
          "text": [
            "epoch:5 train_loss:1.4610924649238586 train_acc:0.4776399999999999 test_acc:0.4762000000000002\n",
            "PATCH_SIZE: 4 \n"
          ]
        },
        {
          "output_type": "stream",
          "name": "stderr",
          "text": [
            " 20%|██        | 1/5 [00:40<02:41, 40.32s/it]"
          ]
        },
        {
          "output_type": "stream",
          "name": "stdout",
          "text": [
            "epoch:1 train_loss:1.998773905992508 train_acc:0.2608400000000001 test_acc:0.35529999999999995\n"
          ]
        },
        {
          "output_type": "stream",
          "name": "stderr",
          "text": [
            "\r 40%|████      | 2/5 [01:21<02:01, 40.61s/it]"
          ]
        },
        {
          "output_type": "stream",
          "name": "stdout",
          "text": [
            "epoch:2 train_loss:1.7299843714237213 train_acc:0.37649999999999956 test_acc:0.42080000000000006\n"
          ]
        },
        {
          "output_type": "stream",
          "name": "stderr",
          "text": [
            "\r 60%|██████    | 3/5 [02:01<01:20, 40.38s/it]"
          ]
        },
        {
          "output_type": "stream",
          "name": "stdout",
          "text": [
            "epoch:3 train_loss:1.591568423271179 train_acc:0.42815999999999954 test_acc:0.4476999999999998\n"
          ]
        },
        {
          "output_type": "stream",
          "name": "stderr",
          "text": [
            "\r 80%|████████  | 4/5 [02:41<00:40, 40.41s/it]"
          ]
        },
        {
          "output_type": "stream",
          "name": "stdout",
          "text": [
            "epoch:4 train_loss:1.5104974815845489 train_acc:0.4581199999999996 test_acc:0.4671000000000001\n"
          ]
        },
        {
          "output_type": "stream",
          "name": "stderr",
          "text": [
            "100%|██████████| 5/5 [03:22<00:00, 40.49s/it]\n"
          ]
        },
        {
          "output_type": "stream",
          "name": "stdout",
          "text": [
            "epoch:5 train_loss:1.4493271796703338 train_acc:0.47985999999999984 test_acc:0.4851999999999998\n",
            "PATCH_SIZE: 4 \n"
          ]
        },
        {
          "output_type": "stream",
          "name": "stderr",
          "text": [
            " 20%|██        | 1/5 [00:40<02:41, 40.34s/it]"
          ]
        },
        {
          "output_type": "stream",
          "name": "stdout",
          "text": [
            "epoch:1 train_loss:1.9837364449501038 train_acc:0.26525999999999966 test_acc:0.3634999999999999\n"
          ]
        },
        {
          "output_type": "stream",
          "name": "stderr",
          "text": [
            "\r 40%|████      | 2/5 [01:20<02:01, 40.39s/it]"
          ]
        },
        {
          "output_type": "stream",
          "name": "stdout",
          "text": [
            "epoch:2 train_loss:1.7274632740020752 train_acc:0.3763999999999998 test_acc:0.40700000000000003\n"
          ]
        },
        {
          "output_type": "stream",
          "name": "stderr",
          "text": [
            "\r 60%|██████    | 3/5 [02:01<01:21, 40.60s/it]"
          ]
        },
        {
          "output_type": "stream",
          "name": "stdout",
          "text": [
            "epoch:3 train_loss:1.6106244158744811 train_acc:0.42291999999999963 test_acc:0.43990000000000007\n"
          ]
        },
        {
          "output_type": "stream",
          "name": "stderr",
          "text": [
            "\r 80%|████████  | 4/5 [02:42<00:40, 40.68s/it]"
          ]
        },
        {
          "output_type": "stream",
          "name": "stdout",
          "text": [
            "epoch:4 train_loss:1.5297475383281707 train_acc:0.45213999999999965 test_acc:0.4641000000000001\n"
          ]
        },
        {
          "output_type": "stream",
          "name": "stderr",
          "text": [
            "100%|██████████| 5/5 [03:23<00:00, 40.69s/it]\n"
          ]
        },
        {
          "output_type": "stream",
          "name": "stdout",
          "text": [
            "epoch:5 train_loss:1.4710128028392793 train_acc:0.47495999999999994 test_acc:0.47679999999999984\n",
            "PATCH_SIZE: 4 \n"
          ]
        },
        {
          "output_type": "stream",
          "name": "stderr",
          "text": [
            " 20%|██        | 1/5 [00:40<02:42, 40.72s/it]"
          ]
        },
        {
          "output_type": "stream",
          "name": "stdout",
          "text": [
            "epoch:1 train_loss:1.9957540974617005 train_acc:0.26249999999999984 test_acc:0.3557999999999999\n"
          ]
        },
        {
          "output_type": "stream",
          "name": "stderr",
          "text": [
            "\r 40%|████      | 2/5 [01:20<02:01, 40.44s/it]"
          ]
        },
        {
          "output_type": "stream",
          "name": "stdout",
          "text": [
            "epoch:2 train_loss:1.7324523203372955 train_acc:0.3736799999999998 test_acc:0.40620000000000006\n"
          ]
        },
        {
          "output_type": "stream",
          "name": "stderr",
          "text": [
            "\r 60%|██████    | 3/5 [02:01<01:20, 40.39s/it]"
          ]
        },
        {
          "output_type": "stream",
          "name": "stdout",
          "text": [
            "epoch:3 train_loss:1.6077906737327576 train_acc:0.4231999999999997 test_acc:0.4416000000000001\n"
          ]
        },
        {
          "output_type": "stream",
          "name": "stderr",
          "text": [
            "\r 80%|████████  | 4/5 [02:41<00:40, 40.37s/it]"
          ]
        },
        {
          "output_type": "stream",
          "name": "stdout",
          "text": [
            "epoch:4 train_loss:1.5273576855659485 train_acc:0.4514399999999999 test_acc:0.4644999999999998\n"
          ]
        },
        {
          "output_type": "stream",
          "name": "stderr",
          "text": [
            "100%|██████████| 5/5 [03:21<00:00, 40.39s/it]\n"
          ]
        },
        {
          "output_type": "stream",
          "name": "stdout",
          "text": [
            "epoch:5 train_loss:1.4700933809280397 train_acc:0.47373999999999983 test_acc:0.47510000000000013\n",
            "PATCH_SIZE: 4 \n"
          ]
        },
        {
          "output_type": "stream",
          "name": "stderr",
          "text": [
            " 20%|██        | 1/5 [00:40<02:41, 40.32s/it]"
          ]
        },
        {
          "output_type": "stream",
          "name": "stdout",
          "text": [
            "epoch:1 train_loss:1.9873552253246307 train_acc:0.26767999999999986 test_acc:0.3574\n"
          ]
        },
        {
          "output_type": "stream",
          "name": "stderr",
          "text": [
            "\r 40%|████      | 2/5 [01:20<02:01, 40.48s/it]"
          ]
        },
        {
          "output_type": "stream",
          "name": "stdout",
          "text": [
            "epoch:2 train_loss:1.7308565642833709 train_acc:0.37882 test_acc:0.40730000000000016\n"
          ]
        },
        {
          "output_type": "stream",
          "name": "stderr",
          "text": [
            "\r 60%|██████    | 3/5 [02:01<01:20, 40.37s/it]"
          ]
        },
        {
          "output_type": "stream",
          "name": "stdout",
          "text": [
            "epoch:3 train_loss:1.6007094132900237 train_acc:0.42543999999999965 test_acc:0.4389999999999999\n"
          ]
        },
        {
          "output_type": "stream",
          "name": "stderr",
          "text": [
            "\r 80%|████████  | 4/5 [02:41<00:40, 40.32s/it]"
          ]
        },
        {
          "output_type": "stream",
          "name": "stdout",
          "text": [
            "epoch:4 train_loss:1.5081743059158326 train_acc:0.4581399999999998 test_acc:0.4667999999999997\n"
          ]
        },
        {
          "output_type": "stream",
          "name": "stderr",
          "text": [
            "100%|██████████| 5/5 [03:21<00:00, 40.36s/it]"
          ]
        },
        {
          "output_type": "stream",
          "name": "stdout",
          "text": [
            "epoch:5 train_loss:1.4468328127861023 train_acc:0.48154000000000013 test_acc:0.4819000000000002\n"
          ]
        },
        {
          "output_type": "stream",
          "name": "stderr",
          "text": [
            "\n"
          ]
        }
      ],
      "source": [
        "for NUM_HEADS in DIFF_NUM_HEADS:\n",
        "  vit=ViT()\n",
        "  loss_curve,train_acc_curve,test_acc_curve=train(model=vit,\n",
        "      train_dataloader=train_dataloader,\n",
        "      test_dataloader=test_dataloader,\n",
        "      device=device,\n",
        "      max_epochs=5,\n",
        "      )\n",
        "  num_head_map[NUM_HEADS]=[loss_curve[-1],train_acc_curve[-1],test_acc_curve[-1]]\n"
      ],
      "id": "6e10a056"
    },
    {
      "cell_type": "code",
      "execution_count": 29,
      "metadata": {
        "id": "UQkBh0kJVHBu"
      },
      "outputs": [],
      "source": [
        " num_head_map3=num_head_map.copy()"
      ],
      "id": "UQkBh0kJVHBu"
    },
    {
      "cell_type": "code",
      "execution_count": 30,
      "metadata": {
        "id": "aQxGiew0VHHM",
        "colab": {
          "base_uri": "https://localhost:8080/"
        },
        "outputId": "6907e4c9-63d2-4167-c997-221c022b75cf"
      },
      "outputs": [
        {
          "output_type": "execute_result",
          "data": {
            "text/plain": [
              "{4: [1.4817024948596955, 0.4704399999999996, 0.4707999999999999],\n",
              " 6: [1.4610924649238586, 0.4776399999999999, 0.4762000000000002],\n",
              " 8: [1.4493271796703338, 0.47985999999999984, 0.4851999999999998],\n",
              " 10: [1.4710128028392793, 0.47495999999999994, 0.47679999999999984],\n",
              " 12: [1.4700933809280397, 0.47373999999999983, 0.47510000000000013],\n",
              " 16: [1.4468328127861023, 0.48154000000000013, 0.4819000000000002]}"
            ]
          },
          "metadata": {},
          "execution_count": 30
        }
      ],
      "source": [
        "num_head_map3"
      ],
      "id": "aQxGiew0VHHM"
    },
    {
      "cell_type": "code",
      "execution_count": 31,
      "metadata": {
        "id": "hOamG6NMVHKE",
        "colab": {
          "base_uri": "https://localhost:8080/",
          "height": 411
        },
        "outputId": "bb669fa7-0053-4a87-9ff5-93a97b95d512"
      },
      "outputs": [
        {
          "output_type": "execute_result",
          "data": {
            "text/plain": [
              "[]"
            ]
          },
          "metadata": {},
          "execution_count": 31
        },
        {
          "output_type": "display_data",
          "data": {
            "text/plain": [
              "<Figure size 1080x432 with 2 Axes>"
            ],
            "image/png": "[encoded data removed]"
          },
          "metadata": {
            "needs_background": "light"
          }
        }
      ],
      "source": [
        "import numpy as np\n",
        "X=np.array(list(num_head_map3.values())).T\n",
        "plt.plot\n",
        "\n",
        "plt.figure(figsize=(15,6))\n",
        "plt.subplot(1, 2, 1)\n",
        "plt.plot(DIFF_NUM_HEADS,X[1],label=\"final_Train_acc\")\n",
        "plt.plot(DIFF_NUM_HEADS,X[2],label=\"final_Test_acc\")\n",
        "plt.xlabel(\"NUM_HEADS\")\n",
        "plt.ylabel(\"accuracy\")\n",
        "plt.ylim(0.4, 0.6)\n",
        "plt.legend()\n",
        "plt.subplot(1, 2, 2)\n",
        "plt.plot(DIFF_NUM_HEADS,X[0])\n",
        "plt.xlabel(\"NUM_HEADS\")\n",
        "plt.ylabel(\"final_train_loss\")\n",
        "plt.ylim(1,2)\n",
        "plt.plot()"
      ],
      "id": "hOamG6NMVHKE"
    },
    {
      "cell_type": "code",
      "execution_count": null,
      "metadata": {
        "id": "RiRRr6V2m5dC"
      },
      "outputs": [],
      "source": [],
      "id": "RiRRr6V2m5dC"
    },
    {
      "cell_type": "markdown",
      "metadata": {
        "id": "WAhX30mr3Sip"
      },
      "source": [
        "#EXPERIMENT ON PATCH SIZE (EXPERIMENT 3)"
      ],
      "id": "WAhX30mr3Sip"
    },
    {
      "cell_type": "code",
      "execution_count": 33,
      "metadata": {
        "id": "hUoFYeNhJ2UZ"
      },
      "outputs": [],
      "source": [
        "DIFF_PATCH_SIZE=[2,4,8,16]\n",
        "patch_size_map={}"
      ],
      "id": "hUoFYeNhJ2UZ"
    },
    {
      "cell_type": "code",
      "execution_count": 34,
      "metadata": {
        "id": "26160c8f",
        "colab": {
          "base_uri": "https://localhost:8080/"
        },
        "outputId": "1f6bcbbe-a69e-4c6b-f056-cf441149d7cf"
      },
      "outputs": [
        {
          "output_type": "stream",
          "name": "stdout",
          "text": [
            "PATCH_SIZE: 2 \n"
          ]
        },
        {
          "output_type": "stream",
          "name": "stderr",
          "text": [
            " 20%|██        | 1/5 [00:41<02:46, 41.58s/it]"
          ]
        },
        {
          "output_type": "stream",
          "name": "stdout",
          "text": [
            "epoch:1 train_loss:2.006661818742752 train_acc:0.2568799999999997 test_acc:0.35449999999999987\n"
          ]
        },
        {
          "output_type": "stream",
          "name": "stderr",
          "text": [
            "\r 40%|████      | 2/5 [01:22<02:02, 40.99s/it]"
          ]
        },
        {
          "output_type": "stream",
          "name": "stdout",
          "text": [
            "epoch:2 train_loss:1.7479529383182526 train_acc:0.36853999999999987 test_acc:0.39429999999999993\n"
          ]
        },
        {
          "output_type": "stream",
          "name": "stderr",
          "text": [
            "\r 60%|██████    | 3/5 [02:03<01:22, 41.06s/it]"
          ]
        },
        {
          "output_type": "stream",
          "name": "stdout",
          "text": [
            "epoch:3 train_loss:1.623609565258026 train_acc:0.41657999999999984 test_acc:0.4246999999999999\n"
          ]
        },
        {
          "output_type": "stream",
          "name": "stderr",
          "text": [
            "\r 80%|████████  | 4/5 [02:43<00:40, 40.87s/it]"
          ]
        },
        {
          "output_type": "stream",
          "name": "stdout",
          "text": [
            "epoch:4 train_loss:1.5377438766956328 train_acc:0.44617999999999935 test_acc:0.45779999999999993\n"
          ]
        },
        {
          "output_type": "stream",
          "name": "stderr",
          "text": [
            "100%|██████████| 5/5 [03:23<00:00, 40.79s/it]\n"
          ]
        },
        {
          "output_type": "stream",
          "name": "stdout",
          "text": [
            "epoch:5 train_loss:1.475751181125641 train_acc:0.4691799999999999 test_acc:0.4764\n",
            "PATCH_SIZE: 4 \n"
          ]
        },
        {
          "output_type": "stream",
          "name": "stderr",
          "text": [
            " 20%|██        | 1/5 [00:40<02:42, 40.67s/it]"
          ]
        },
        {
          "output_type": "stream",
          "name": "stdout",
          "text": [
            "epoch:1 train_loss:1.9969986038208007 train_acc:0.26210000000000017 test_acc:0.3615\n"
          ]
        },
        {
          "output_type": "stream",
          "name": "stderr",
          "text": [
            "\r 40%|████      | 2/5 [01:20<02:01, 40.35s/it]"
          ]
        },
        {
          "output_type": "stream",
          "name": "stdout",
          "text": [
            "epoch:2 train_loss:1.7259259040355683 train_acc:0.37905999999999995 test_acc:0.40370000000000006\n"
          ]
        },
        {
          "output_type": "stream",
          "name": "stderr",
          "text": [
            "\r 60%|██████    | 3/5 [02:00<01:20, 40.27s/it]"
          ]
        },
        {
          "output_type": "stream",
          "name": "stdout",
          "text": [
            "epoch:3 train_loss:1.5991475536823272 train_acc:0.4276599999999996 test_acc:0.44339999999999996\n"
          ]
        },
        {
          "output_type": "stream",
          "name": "stderr",
          "text": [
            "\r 80%|████████  | 4/5 [02:41<00:40, 40.37s/it]"
          ]
        },
        {
          "output_type": "stream",
          "name": "stdout",
          "text": [
            "epoch:4 train_loss:1.51942369556427 train_acc:0.45654000000000006 test_acc:0.4671\n"
          ]
        },
        {
          "output_type": "stream",
          "name": "stderr",
          "text": [
            "100%|██████████| 5/5 [03:21<00:00, 40.31s/it]\n"
          ]
        },
        {
          "output_type": "stream",
          "name": "stdout",
          "text": [
            "epoch:5 train_loss:1.4551269967556 train_acc:0.47888000000000003 test_acc:0.4833000000000001\n",
            "PATCH_SIZE: 8 \n"
          ]
        },
        {
          "output_type": "stream",
          "name": "stderr",
          "text": [
            " 20%|██        | 1/5 [00:40<02:40, 40.15s/it]"
          ]
        },
        {
          "output_type": "stream",
          "name": "stdout",
          "text": [
            "epoch:1 train_loss:2.014472932815552 train_acc:0.25469999999999987 test_acc:0.34749999999999986\n"
          ]
        },
        {
          "output_type": "stream",
          "name": "stderr",
          "text": [
            "\r 40%|████      | 2/5 [01:20<02:01, 40.36s/it]"
          ]
        },
        {
          "output_type": "stream",
          "name": "stdout",
          "text": [
            "epoch:2 train_loss:1.7517249331474305 train_acc:0.37147999999999964 test_acc:0.40610000000000007\n"
          ]
        },
        {
          "output_type": "stream",
          "name": "stderr",
          "text": [
            "\r 60%|██████    | 3/5 [02:00<01:20, 40.25s/it]"
          ]
        },
        {
          "output_type": "stream",
          "name": "stdout",
          "text": [
            "epoch:3 train_loss:1.6245324125289917 train_acc:0.41739999999999944 test_acc:0.44150000000000006\n"
          ]
        },
        {
          "output_type": "stream",
          "name": "stderr",
          "text": [
            "\r 80%|████████  | 4/5 [02:40<00:40, 40.23s/it]"
          ]
        },
        {
          "output_type": "stream",
          "name": "stdout",
          "text": [
            "epoch:4 train_loss:1.5372632176876069 train_acc:0.44939999999999924 test_acc:0.4635999999999998\n"
          ]
        },
        {
          "output_type": "stream",
          "name": "stderr",
          "text": [
            "100%|██████████| 5/5 [03:21<00:00, 40.26s/it]\n"
          ]
        },
        {
          "output_type": "stream",
          "name": "stdout",
          "text": [
            "epoch:5 train_loss:1.4733426773548126 train_acc:0.47198000000000007 test_acc:0.47539999999999993\n",
            "PATCH_SIZE: 16 \n"
          ]
        },
        {
          "output_type": "stream",
          "name": "stderr",
          "text": [
            " 20%|██        | 1/5 [00:40<02:40, 40.11s/it]"
          ]
        },
        {
          "output_type": "stream",
          "name": "stdout",
          "text": [
            "epoch:1 train_loss:2.0088737349510195 train_acc:0.2577600000000002 test_acc:0.34800000000000003\n"
          ]
        },
        {
          "output_type": "stream",
          "name": "stderr",
          "text": [
            "\r 40%|████      | 2/5 [01:20<02:00, 40.09s/it]"
          ]
        },
        {
          "output_type": "stream",
          "name": "stdout",
          "text": [
            "epoch:2 train_loss:1.746525443315506 train_acc:0.36888 test_acc:0.3979\n"
          ]
        },
        {
          "output_type": "stream",
          "name": "stderr",
          "text": [
            "\r 60%|██████    | 3/5 [02:00<01:20, 40.17s/it]"
          ]
        },
        {
          "output_type": "stream",
          "name": "stdout",
          "text": [
            "epoch:3 train_loss:1.619400542974472 train_acc:0.4188799999999993 test_acc:0.4344999999999999\n"
          ]
        },
        {
          "output_type": "stream",
          "name": "stderr",
          "text": [
            "\r 80%|████████  | 4/5 [02:40<00:40, 40.15s/it]"
          ]
        },
        {
          "output_type": "stream",
          "name": "stdout",
          "text": [
            "epoch:4 train_loss:1.5300845103263856 train_acc:0.45121999999999934 test_acc:0.4635000000000001\n"
          ]
        },
        {
          "output_type": "stream",
          "name": "stderr",
          "text": [
            "100%|██████████| 5/5 [03:20<00:00, 40.12s/it]"
          ]
        },
        {
          "output_type": "stream",
          "name": "stdout",
          "text": [
            "epoch:5 train_loss:1.465781412601471 train_acc:0.4734799999999998 test_acc:0.4802\n"
          ]
        },
        {
          "output_type": "stream",
          "name": "stderr",
          "text": [
            "\n"
          ]
        }
      ],
      "source": [
        " for PATCH_SIZE in DIFF_PATCH_SIZE:\n",
        "  vit=ViT()\n",
        "  loss_curve,train_acc_curve,test_acc_curve=train(model=vit,\n",
        "      train_dataloader=train_dataloader,\n",
        "      test_dataloader=test_dataloader,\n",
        "      device=device,\n",
        "      max_epochs=5,\n",
        "      )\n",
        "  patch_size_map[PATCH_SIZE]=[loss_curve[-1],train_acc_curve[-1],test_acc_curve[-1]]"
      ],
      "id": "26160c8f"
    },
    {
      "cell_type": "code",
      "execution_count": 35,
      "metadata": {
        "id": "T33MMpcVRV0n"
      },
      "outputs": [],
      "source": [
        "patch_size_map2=patch_size_map.copy()"
      ],
      "id": "T33MMpcVRV0n"
    },
    {
      "cell_type": "code",
      "execution_count": 36,
      "metadata": {
        "id": "OYVTN8HCAc7h",
        "colab": {
          "base_uri": "https://localhost:8080/",
          "height": 411
        },
        "outputId": "2167be1f-8836-4094-b002-d0f94c2ec471"
      },
      "outputs": [
        {
          "output_type": "execute_result",
          "data": {
            "text/plain": [
              "[]"
            ]
          },
          "metadata": {},
          "execution_count": 36
        },
        {
          "output_type": "display_data",
          "data": {
            "text/plain": [
              "<Figure size 1080x432 with 2 Axes>"
            ],
            "image/png": "[encoded data removed]"
          },
          "metadata": {
            "needs_background": "light"
          }
        }
      ],
      "source": [
        "import numpy as np\n",
        "X=np.array(list(patch_size_map2.values())).T\n",
        "plt.plot\n",
        "\n",
        "plt.figure(figsize=(15,6))\n",
        "plt.subplot(1, 2, 1)\n",
        "plt.plot(DIFF_PATCH_SIZE,X[1],label=\"final_Train_acc\")\n",
        "plt.plot(DIFF_PATCH_SIZE,X[2],label=\"final_Test_acc\")\n",
        "plt.xlabel(\"NUM_HEADS\")\n",
        "plt.ylabel(\"accuracy\")\n",
        "plt.ylim(0.4, 0.6)\n",
        "plt.legend()\n",
        "plt.subplot(1, 2, 2)\n",
        "plt.plot(DIFF_PATCH_SIZE,X[0])\n",
        "plt.xlabel(\"NUM_HEADS\")\n",
        "plt.ylabel(\"final_train_loss\")\n",
        "plt.ylim(1,2)\n",
        "plt.plot()"
      ],
      "id": "OYVTN8HCAc7h"
    },
    {
      "cell_type": "markdown",
      "metadata": {
        "id": "P54qdRGoRgyW"
      },
      "source": [
        "#PREDICTION on custom image (JUST FOR CHECKING)"
      ],
      "id": "P54qdRGoRgyW"
    },
    {
      "cell_type": "code",
      "execution_count": null,
      "metadata": {
        "id": "DX5wzLLCXMcg"
      },
      "outputs": [],
      "source": [
        "img_tensor=next(iter(train_dataloader))[0][25]\n",
        "print(img_tensor.shape)\n",
        "\n",
        "plt.imshow(img_tensor.permute(1,2,0))"
      ],
      "id": "DX5wzLLCXMcg"
    },
    {
      "cell_type": "code",
      "execution_count": null,
      "metadata": {
        "id": "KFGi439ORV7X"
      },
      "outputs": [],
      "source": [
        "from PIL import Image\n",
        "import torchvision.transforms as transforms\n",
        "image = Image.open('horse.png')\n",
        "image"
      ],
      "id": "KFGi439ORV7X"
    },
    {
      "cell_type": "code",
      "execution_count": null,
      "metadata": {
        "id": "3561c691"
      },
      "outputs": [],
      "source": [
        "transform = transforms.Compose([\n",
        "    \n",
        "    transforms.PILToTensor(),\n",
        "    transforms.Resize((IMG_SIZE, IMG_SIZE))\n",
        "])\n",
        "  \n",
        "img_tensor = transform(image)\n",
        "print(img_tensor.shape)\n",
        "\n",
        "plt.imshow(img_tensor.permute(1,2,0))"
      ],
      "id": "3561c691"
    },
    {
      "cell_type": "code",
      "execution_count": null,
      "metadata": {
        "id": "GD1wZsrHR2Is"
      },
      "outputs": [],
      "source": [
        "def predict(model=vit,img_tensor=img_tensor):\n",
        "  X=img_tensor.unsqueeze(0)\n",
        "  X=X.to(torch.float32)\n",
        "  X=X.to(device)\n",
        "  print(X.shape)\n",
        "  y=model(X)\n",
        "  print(y)\n",
        "  print(train_dataset.classes[torch.argmax(y)])"
      ],
      "id": "GD1wZsrHR2Is"
    },
    {
      "cell_type": "code",
      "execution_count": null,
      "metadata": {
        "id": "2krzJPFZSxiD"
      },
      "outputs": [],
      "source": [
        "BATCH_SIZE=1\n",
        "predict(img_tensor=img_tensor)"
      ],
      "id": "2krzJPFZSxiD"
    },
    {
      "cell_type": "code",
      "execution_count": null,
      "metadata": {
        "id": "G4hLdSqwTpsD"
      },
      "outputs": [],
      "source": [
        "print(train_dataset.classes)"
      ],
      "id": "G4hLdSqwTpsD"
    },
    {
      "cell_type": "code",
      "execution_count": null,
      "metadata": {
        "id": "mqyaNvbrSzFE"
      },
      "outputs": [],
      "source": [],
      "id": "mqyaNvbrSzFE"
    },
    {
      "cell_type": "code",
      "source": [],
      "metadata": {
        "id": "7bWXz5LvWCq7"
      },
      "id": "7bWXz5LvWCq7",
      "execution_count": null,
      "outputs": []
    },
    {
      "cell_type": "markdown",
      "source": [
        "#ViT (At every level)"
      ],
      "metadata": {
        "id": "gTXZhndAWDmB"
      },
      "id": "gTXZhndAWDmB"
    },
    {
      "cell_type": "code",
      "source": [
        "from tqdm import tqdm\n",
        "\n",
        "#Hyper parameter\n",
        "LEARNING_RATE=10**(-4)\n",
        "BATCH_SIZE = 100 \n",
        "IMG_SIZE = 32\n",
        "PATCH_SIZE=4\n",
        "IN_CHANNELS=3\n",
        "EMBEDDING_DIMENTION=PATCH_SIZE*PATCH_SIZE*IN_CHANNELS*5\n",
        "NUM_HEADS=8\n",
        "NUM_ATTENTION_LAYERS=4\n",
        "DROPOUT_P=0.1\n",
        "MLP_SIZE=1024\n",
        "NUM_LABELS=10\n",
        "\n",
        "class ViT(nn.Module):\n",
        "    \n",
        "    def __init__(self,\n",
        "                 img_size=IMG_SIZE, \n",
        "                 in_channels=IN_CHANNELS, \n",
        "                 patch_size=PATCH_SIZE, \n",
        "                 num_transformer_layers=NUM_ATTENTION_LAYERS, \n",
        "                 embedding_dim=EMBEDDING_DIMENTION, \n",
        "                 mlp_size=MLP_SIZE, \n",
        "                 num_heads=NUM_HEADS, \n",
        "                 attn_dropout=0, \n",
        "                 mlp_dropout=DROPOUT_P, \n",
        "                 embedding_dropout=DROPOUT_P, # Dropout for patch and position embeddings\n",
        "                 num_classes=NUM_LABELS): \n",
        "        \n",
        "        super().__init__() \n",
        "        \n",
        "        \n",
        "        self.num_patches = (img_size * img_size) // patch_size**2\n",
        "                 \n",
        "        self.class_embedding = nn.Parameter(data=torch.randn(1, 1, embedding_dim),\n",
        "                                            requires_grad=True)\n",
        "        \n",
        "        \n",
        "        self.position_embedding = nn.Parameter(data=torch.randn(1, self.num_patches+1, embedding_dim),\n",
        "                                               requires_grad=True)\n",
        "                \n",
        "        \n",
        "        self.embedding_dropout = nn.Dropout(p=embedding_dropout)\n",
        "        \n",
        "       \n",
        "        self.patch_embedding = Patch_embedding(in_channels=in_channels,\n",
        "                                              patch_size=patch_size,\n",
        "                                              embedding_dim=embedding_dim)\n",
        "        \n",
        "        \n",
        "        self.EncoderBlock1 = EncoderBlock(embedding_dim=embedding_dim,\n",
        "                                        num_heads=num_heads,\n",
        "                                        mlp_size=mlp_size,\n",
        "                                        mlp_dropout=mlp_dropout)\n",
        "        self.EncoderBlock2 = EncoderBlock(embedding_dim=embedding_dim,\n",
        "                                        num_heads=num_heads,\n",
        "                                        mlp_size=mlp_size,\n",
        "                                        mlp_dropout=mlp_dropout)\n",
        "        self.EncoderBlock3 = EncoderBlock(embedding_dim=embedding_dim,\n",
        "                                        num_heads=num_heads,\n",
        "                                        mlp_size=mlp_size,\n",
        "                                        mlp_dropout=mlp_dropout)\n",
        "        self.EncoderBlock4 = EncoderBlock(embedding_dim=embedding_dim,\n",
        "                                        num_heads=num_heads,\n",
        "                                        mlp_size=mlp_size,\n",
        "                                        mlp_dropout=mlp_dropout)\n",
        "       \n",
        "       \n",
        "        self.classifier = nn.Sequential(\n",
        "            nn.LayerNorm(normalized_shape=embedding_dim),\n",
        "            nn.Linear(in_features=embedding_dim, \n",
        "                      out_features=num_classes)\n",
        "        )\n",
        "        \n",
        "    \n",
        "    def forward(self, x):\n",
        "        T=torch.zeros(4,BATCH_SIZE,NUM_LABELS)\n",
        "        batch_size = BATCH_SIZE\n",
        "        \n",
        "        class_token = self.class_embedding.expand(batch_size, -1, -1) \n",
        "        \n",
        "        x = self.patch_embedding(x)\n",
        "\n",
        "        x = torch.cat((class_token, x), dim=1)\n",
        "\n",
        "        x = self.position_embedding + x\n",
        "\n",
        "        x = self.embedding_dropout(x)\n",
        "\n",
        "        x = self.EncoderBlock1(x)\n",
        "        T[0]=self.classifier(x[:, 0])\n",
        "        x = self.EncoderBlock2(x)\n",
        "        T[1]=self.classifier(x[:, 0])\n",
        "        x = self.EncoderBlock3(x)\n",
        "        T[2]=self.classifier(x[:, 0])\n",
        "        x = self.EncoderBlock4(x)\n",
        "        T[3]=self.classifier(x[:, 0])\n",
        "        #print(T)\n",
        "        #print(\"hello\")\n",
        "        return(T)  \n",
        "\n",
        "\n",
        "def train(model,\n",
        "          train_dataloader,\n",
        "          test_dataloader,\n",
        "          max_epochs,\n",
        "          device,\n",
        "         ):\n",
        "    \n",
        "    \n",
        "    optimiser=torch.optim.Adam(params=model.parameters(), \n",
        "                             lr=10**(-4))\n",
        "#                              betas=(0.9, 0.999), \n",
        "#                              weight_decay=0.3) \n",
        "    loss_fn=nn.CrossEntropyLoss()\n",
        "    \n",
        "    \n",
        "    model.to(device)\n",
        "    \n",
        "    \n",
        "    train_accuracy={0:0,1:0,2:0,3:0}\n",
        "    test_accuracy={0:0,1:0,2:0,3:0}\n",
        "    for epoch in tqdm(range(max_epochs)):\n",
        "        model.train()\n",
        "        train_accuracy={0:0,1:0,2:0,3:0}\n",
        "        test_accuracy={0:0,1:0,2:0,3:0}\n",
        "        \n",
        "        for batch_id,(X,y) in enumerate(train_dataloader):\n",
        "            X, y = X.to(device), y.to(device)\n",
        "            y_pred=model(X)\n",
        "            y_pred=y_pred.to(device)\n",
        "            #print(y_pred.shape,y.shape,y_pred.device,y.device)\n",
        "\n",
        "            loss={}\n",
        "            loss[0]=loss_fn(y_pred[0],y)\n",
        "            loss[1]=loss_fn(y_pred[1],y)\n",
        "            loss[2]=loss_fn(y_pred[2],y)\n",
        "            loss[3]=loss_fn(y_pred[3],y)\n",
        "            \n",
        "            \n",
        "            \n",
        "            \n",
        "            optimiser.zero_grad()\n",
        "            loss[3].backward()\n",
        "            optimiser.step()\n",
        "            \n",
        "            \n",
        "            \n",
        "            \n",
        "            \n",
        "            batch_correct={}\n",
        "            batch_correct[0]=((torch.argmax(y_pred[0],dim=1)==y).sum().item())/BATCH_SIZE\n",
        "            batch_correct[1]=((torch.argmax(y_pred[1],dim=1)==y).sum().item())/BATCH_SIZE\n",
        "            batch_correct[2]=((torch.argmax(y_pred[2],dim=1)==y).sum().item())/BATCH_SIZE\n",
        "            batch_correct[3]=((torch.argmax(y_pred[3],dim=1)==y).sum().item())/BATCH_SIZE\n",
        "\n",
        "            train_accuracy[0]+=batch_correct[0]\n",
        "            train_accuracy[1]+=batch_correct[1]\n",
        "            train_accuracy[2]+=batch_correct[2]\n",
        "            train_accuracy[3]+=batch_correct[3]\n",
        "           # print(loss.item(),batch_correct)\n",
        "        \n",
        "\n",
        "\n",
        "        for batch_id,(X,y) in enumerate(test_dataloader):\n",
        "                  \n",
        "            X, y = X.to(device), y.to(device)\n",
        "            y_pred=model(X)\n",
        "            y_pred=y_pred.to(device)\n",
        "            \n",
        "          \n",
        "            batch_correct={}\n",
        "            batch_correct[0]=((torch.argmax(y_pred[0],dim=1)==y).sum().item())/BATCH_SIZE\n",
        "            batch_correct[1]=((torch.argmax(y_pred[1],dim=1)==y).sum().item())/BATCH_SIZE\n",
        "            batch_correct[2]=((torch.argmax(y_pred[2],dim=1)==y).sum().item())/BATCH_SIZE\n",
        "            batch_correct[3]=((torch.argmax(y_pred[3],dim=1)==y).sum().item())/BATCH_SIZE\n",
        "\n",
        "            test_accuracy[0]+=batch_correct[0]\n",
        "            test_accuracy[1]+=batch_correct[1]\n",
        "            test_accuracy[2]+=batch_correct[2]\n",
        "            test_accuracy[3]+=batch_correct[3]\n",
        "            \n",
        "              \n",
        "              \n",
        "    \n",
        "    \n",
        "    print(\"done\")\n",
        "    return train_accuracy,test_accuracy\n",
        "\n",
        "vit=ViT()\n",
        "train_accuracy,test_accuracy=train(model=vit,\n",
        "      train_dataloader=train_dataloader,\n",
        "      test_dataloader=test_dataloader,\n",
        "      device=device,\n",
        "      max_epochs=10,\n",
        "      )\n",
        "\n",
        "\n",
        "import numpy as np\n",
        "a=np.array(list(train_accuracy.values()))/len(train_dataloader)\n",
        "b=np.array(list(test_accuracy.values()))/len(test_dataloader)\n",
        "a,b\n",
        "plt.figure(figsize=(8,6))\n",
        "plt.plot([1,2,3,4],a,marker='o',label=\"train_accuracy\")\n",
        "plt.plot([1,2,3,4],b,marker='o',label=\"test_accuracy\")\n",
        "plt.xlabel(\"ith Layer class token\")\n",
        "plt.ylabel(\"accuracy\")\n",
        "plt.legend()\n",
        "plt.ylim(0,1)\n",
        "plt.show()\n",
        "\n",
        "        \n",
        "            \n",
        "        "
      ],
      "metadata": {
        "colab": {
          "base_uri": "https://localhost:8080/",
          "height": 428
        },
        "id": "reFxxTERWGrr",
        "outputId": "ad7ab528-07b5-41e6-bfd6-17346b8b8f73"
      },
      "id": "reFxxTERWGrr",
      "execution_count": 37,
      "outputs": [
        {
          "output_type": "stream",
          "name": "stderr",
          "text": [
            "100%|██████████| 10/10 [06:32<00:00, 39.26s/it]"
          ]
        },
        {
          "output_type": "stream",
          "name": "stdout",
          "text": [
            "done\n"
          ]
        },
        {
          "output_type": "stream",
          "name": "stderr",
          "text": [
            "\n"
          ]
        },
        {
          "output_type": "display_data",
          "data": {
            "text/plain": [
              "<Figure size 576x432 with 1 Axes>"
            ],
            "image/png": "[encoded data removed]"
          },
          "metadata": {
            "needs_background": "light"
          }
        }
      ]
    },
    {
      "cell_type": "code",
      "source": [],
      "metadata": {
        "id": "dTHnQbhDb7Ns"
      },
      "id": "dTHnQbhDb7Ns",
      "execution_count": null,
      "outputs": []
    }
  ],
  "metadata": {
    "accelerator": "GPU",
    "colab": {
      "collapsed_sections": [
        "DSm-IE1Um9cv",
        "8337232b",
        "ea10cbf8",
        "402c1c3a",
        "e7118fe5",
        "dfe71e62",
        "998fde9c",
        "3ac2b88b",
        "RG9uCTTZs-KU",
        "P54qdRGoRgyW"
      ],
      "provenance": []
    },
    "gpuClass": "standard",
    "kernelspec": {
      "display_name": "Python 3 (ipykernel)",
      "language": "python",
      "name": "python3"
    },
    "language_info": {
      "codemirror_mode": {
        "name": "ipython",
        "version": 3
      },
      "file_extension": ".py",
      "mimetype": "text/x-python",
      "name": "python",
      "nbconvert_exporter": "python",
      "pygments_lexer": "ipython3",
      "version": "3.10.4"
    },
    "widgets": {
      "application/vnd.jupyter.widget-state+json": {
        "1657a87db40d4fdeb7cf46a4b599cd57": {
          "model_module": "@jupyter-widgets/controls",
          "model_name": "HBoxModel",
          "model_module_version": "1.5.0",
          "state": {
            "_dom_classes": [],
            "_model_module": "@jupyter-widgets/controls",
            "_model_module_version": "1.5.0",
            "_model_name": "HBoxModel",
            "_view_count": null,
            "_view_module": "@jupyter-widgets/controls",
            "_view_module_version": "1.5.0",
            "_view_name": "HBoxView",
            "box_style": "",
            "children": [
              "IPY_MODEL_24668bcda93c4fb995b81c126fff29e7",
              "IPY_MODEL_5f683b363b7d4510b6da391081a483fb",
              "IPY_MODEL_6cdb39b7222548b9af3706aa4edcc85b"
            ],
            "layout": "IPY_MODEL_c69cb0457d48476898b5081933103331"
          }
        },
        "24668bcda93c4fb995b81c126fff29e7": {
          "model_module": "@jupyter-widgets/controls",
          "model_name": "HTMLModel",
          "model_module_version": "1.5.0",
          "state": {
            "_dom_classes": [],
            "_model_module": "@jupyter-widgets/controls",
            "_model_module_version": "1.5.0",
            "_model_name": "HTMLModel",
            "_view_count": null,
            "_view_module": "@jupyter-widgets/controls",
            "_view_module_version": "1.5.0",
            "_view_name": "HTMLView",
            "description": "",
            "description_tooltip": null,
            "layout": "IPY_MODEL_f6e72cac18074030a1adeaa0502a9723",
            "placeholder": "​",
            "style": "IPY_MODEL_3d653f97f5fe44dea2d502af23c0b9d2",
            "value": "100%"
          }
        },
        "5f683b363b7d4510b6da391081a483fb": {
          "model_module": "@jupyter-widgets/controls",
          "model_name": "FloatProgressModel",
          "model_module_version": "1.5.0",
          "state": {
            "_dom_classes": [],
            "_model_module": "@jupyter-widgets/controls",
            "_model_module_version": "1.5.0",
            "_model_name": "FloatProgressModel",
            "_view_count": null,
            "_view_module": "@jupyter-widgets/controls",
            "_view_module_version": "1.5.0",
            "_view_name": "ProgressView",
            "bar_style": "success",
            "description": "",
            "description_tooltip": null,
            "layout": "IPY_MODEL_442a729e1f2b48009e74e98e9126cd7c",
            "max": 170498071,
            "min": 0,
            "orientation": "horizontal",
            "style": "IPY_MODEL_c0583622071a4c94b41615e79c25439f",
            "value": 170498071
          }
        },
        "6cdb39b7222548b9af3706aa4edcc85b": {
          "model_module": "@jupyter-widgets/controls",
          "model_name": "HTMLModel",
          "model_module_version": "1.5.0",
          "state": {
            "_dom_classes": [],
            "_model_module": "@jupyter-widgets/controls",
            "_model_module_version": "1.5.0",
            "_model_name": "HTMLModel",
            "_view_count": null,
            "_view_module": "@jupyter-widgets/controls",
            "_view_module_version": "1.5.0",
            "_view_name": "HTMLView",
            "description": "",
            "description_tooltip": null,
            "layout": "IPY_MODEL_eaa53de09e0c48d28477ca55855b82a0",
            "placeholder": "​",
            "style": "IPY_MODEL_9d44d0812966429c8b3219797a086d2d",
            "value": " 170498071/170498071 [00:13&lt;00:00, 12475891.97it/s]"
          }
        },
        "c69cb0457d48476898b5081933103331": {
          "model_module": "@jupyter-widgets/base",
          "model_name": "LayoutModel",
          "model_module_version": "1.2.0",
          "state": {
            "_model_module": "@jupyter-widgets/base",
            "_model_module_version": "1.2.0",
            "_model_name": "LayoutModel",
            "_view_count": null,
            "_view_module": "@jupyter-widgets/base",
            "_view_module_version": "1.2.0",
            "_view_name": "LayoutView",
            "align_content": null,
            "align_items": null,
            "align_self": null,
            "border": null,
            "bottom": null,
            "display": null,
            "flex": null,
            "flex_flow": null,
            "grid_area": null,
            "grid_auto_columns": null,
            "grid_auto_flow": null,
            "grid_auto_rows": null,
            "grid_column": null,
            "grid_gap": null,
            "grid_row": null,
            "grid_template_areas": null,
            "grid_template_columns": null,
            "grid_template_rows": null,
            "height": null,
            "justify_content": null,
            "justify_items": null,
            "left": null,
            "margin": null,
            "max_height": null,
            "max_width": null,
            "min_height": null,
            "min_width": null,
            "object_fit": null,
            "object_position": null,
            "order": null,
            "overflow": null,
            "overflow_x": null,
            "overflow_y": null,
            "padding": null,
            "right": null,
            "top": null,
            "visibility": null,
            "width": null
          }
        },
        "f6e72cac18074030a1adeaa0502a9723": {
          "model_module": "@jupyter-widgets/base",
          "model_name": "LayoutModel",
          "model_module_version": "1.2.0",
          "state": {
            "_model_module": "@jupyter-widgets/base",
            "_model_module_version": "1.2.0",
            "_model_name": "LayoutModel",
            "_view_count": null,
            "_view_module": "@jupyter-widgets/base",
            "_view_module_version": "1.2.0",
            "_view_name": "LayoutView",
            "align_content": null,
            "align_items": null,
            "align_self": null,
            "border": null,
            "bottom": null,
            "display": null,
            "flex": null,
            "flex_flow": null,
            "grid_area": null,
            "grid_auto_columns": null,
            "grid_auto_flow": null,
            "grid_auto_rows": null,
            "grid_column": null,
            "grid_gap": null,
            "grid_row": null,
            "grid_template_areas": null,
            "grid_template_columns": null,
            "grid_template_rows": null,
            "height": null,
            "justify_content": null,
            "justify_items": null,
            "left": null,
            "margin": null,
            "max_height": null,
            "max_width": null,
            "min_height": null,
            "min_width": null,
            "object_fit": null,
            "object_position": null,
            "order": null,
            "overflow": null,
            "overflow_x": null,
            "overflow_y": null,
            "padding": null,
            "right": null,
            "top": null,
            "visibility": null,
            "width": null
          }
        },
        "3d653f97f5fe44dea2d502af23c0b9d2": {
          "model_module": "@jupyter-widgets/controls",
          "model_name": "DescriptionStyleModel",
          "model_module_version": "1.5.0",
          "state": {
            "_model_module": "@jupyter-widgets/controls",
            "_model_module_version": "1.5.0",
            "_model_name": "DescriptionStyleModel",
            "_view_count": null,
            "_view_module": "@jupyter-widgets/base",
            "_view_module_version": "1.2.0",
            "_view_name": "StyleView",
            "description_width": ""
          }
        },
        "442a729e1f2b48009e74e98e9126cd7c": {
          "model_module": "@jupyter-widgets/base",
          "model_name": "LayoutModel",
          "model_module_version": "1.2.0",
          "state": {
            "_model_module": "@jupyter-widgets/base",
            "_model_module_version": "1.2.0",
            "_model_name": "LayoutModel",
            "_view_count": null,
            "_view_module": "@jupyter-widgets/base",
            "_view_module_version": "1.2.0",
            "_view_name": "LayoutView",
            "align_content": null,
            "align_items": null,
            "align_self": null,
            "border": null,
            "bottom": null,
            "display": null,
            "flex": null,
            "flex_flow": null,
            "grid_area": null,
            "grid_auto_columns": null,
            "grid_auto_flow": null,
            "grid_auto_rows": null,
            "grid_column": null,
            "grid_gap": null,
            "grid_row": null,
            "grid_template_areas": null,
            "grid_template_columns": null,
            "grid_template_rows": null,
            "height": null,
            "justify_content": null,
            "justify_items": null,
            "left": null,
            "margin": null,
            "max_height": null,
            "max_width": null,
            "min_height": null,
            "min_width": null,
            "object_fit": null,
            "object_position": null,
            "order": null,
            "overflow": null,
            "overflow_x": null,
            "overflow_y": null,
            "padding": null,
            "right": null,
            "top": null,
            "visibility": null,
            "width": null
          }
        },
        "c0583622071a4c94b41615e79c25439f": {
          "model_module": "@jupyter-widgets/controls",
          "model_name": "ProgressStyleModel",
          "model_module_version": "1.5.0",
          "state": {
            "_model_module": "@jupyter-widgets/controls",
            "_model_module_version": "1.5.0",
            "_model_name": "ProgressStyleModel",
            "_view_count": null,
            "_view_module": "@jupyter-widgets/base",
            "_view_module_version": "1.2.0",
            "_view_name": "StyleView",
            "bar_color": null,
            "description_width": ""
          }
        },
        "eaa53de09e0c48d28477ca55855b82a0": {
          "model_module": "@jupyter-widgets/base",
          "model_name": "LayoutModel",
          "model_module_version": "1.2.0",
          "state": {
            "_model_module": "@jupyter-widgets/base",
            "_model_module_version": "1.2.0",
            "_model_name": "LayoutModel",
            "_view_count": null,
            "_view_module": "@jupyter-widgets/base",
            "_view_module_version": "1.2.0",
            "_view_name": "LayoutView",
            "align_content": null,
            "align_items": null,
            "align_self": null,
            "border": null,
            "bottom": null,
            "display": null,
            "flex": null,
            "flex_flow": null,
            "grid_area": null,
            "grid_auto_columns": null,
            "grid_auto_flow": null,
            "grid_auto_rows": null,
            "grid_column": null,
            "grid_gap": null,
            "grid_row": null,
            "grid_template_areas": null,
            "grid_template_columns": null,
            "grid_template_rows": null,
            "height": null,
            "justify_content": null,
            "justify_items": null,
            "left": null,
            "margin": null,
            "max_height": null,
            "max_width": null,
            "min_height": null,
            "min_width": null,
            "object_fit": null,
            "object_position": null,
            "order": null,
            "overflow": null,
            "overflow_x": null,
            "overflow_y": null,
            "padding": null,
            "right": null,
            "top": null,
            "visibility": null,
            "width": null
          }
        },
        "9d44d0812966429c8b3219797a086d2d": {
          "model_module": "@jupyter-widgets/controls",
          "model_name": "DescriptionStyleModel",
          "model_module_version": "1.5.0",
          "state": {
            "_model_module": "@jupyter-widgets/controls",
            "_model_module_version": "1.5.0",
            "_model_name": "DescriptionStyleModel",
            "_view_count": null,
            "_view_module": "@jupyter-widgets/base",
            "_view_module_version": "1.2.0",
            "_view_name": "StyleView",
            "description_width": ""
          }
        }
      }
    }
  },
  "nbformat": 4,
  "nbformat_minor": 5
}